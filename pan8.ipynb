{
 "cells": [
  {
   "cell_type": "markdown",
   "metadata": {},
   "source": [
    "第8章　さらにグラフィカルに調べよう\n",
    "\n",
    "　日経平均株価の超長期のデータを用いて確定的トレンドと確率的トレンドを理解した。  確定的トレンドは、時間の経過と共に上昇、または下落するトレンドを形成し、価格はその期待値の周辺を行ったり来たりする。一方、確率的トレンドは上昇、または下落のトレンドを形成するが、価格がその後どのような動きをするかは定かではない。\n",
    "\n",
    "　どちらも非定常確率過程の例であるが、その背後に想定される市場の構造は全く違う。経済に外生的なショックなどが与えられると確定的トレンドでは、日経平均株価は一時的にそのトレンドから大きく乖離するかもしれないが、 経済が確定的なトレンドを維持できる力を保持できていれば、元の軌道に戻る可能性がある。 一方、確率的トレンドではトレンドからの乖離はトレンドとの決別を意味する。これがランダムウォークの特徴である。 前章までの分析でこのように本質的に異なる2つのトレンドが過去の日経平均株価には見られた。\n",
    "\n",
    "三種の神器はあるか？\n",
    "\n",
    "　株式指数、個別株、為替レートなどの価格は、上昇の後にさらに上昇し、 下落の後にさらに下落するという過去の株価と現在の株価が相関を持つという事例も多数観察されている。\n",
    "\n",
    "標本線形回帰式の\n",
    "\n",
    "$Y_t=\\alpha+\\beta X_t+\\varepsilon_t$\n",
    " \n",
    "を思い出してほしい。$X_t$ は$t$時点の被説明変数である。$t$時点の説明変数$X_t$ を1単位時間(1時点)前の被説明変数$S_{t-1}$ に置き換えると\n",
    " \n",
    " $Y_t=\\alpha+\\beta Y_{t-1}+\\varepsilon_t$\n",
    " \n",
    "の1次の自己回帰モデル(AR(1))が得られる。ここで$\\varepsilon_t$ はかく乱項である。 $\\alpha$は係数、$\\beta$は自己回帰係数で $Y_t$と $Y_{t-1}$の間の関係を表している。これは最も簡単な自己回帰過程で1階の自己回帰過程と呼ばれる。 $|\\beta|<1$の場合、これは定常確率過程となる。$\\beta=1$の時はすでに見たランダムウォークモデルである。 さらにこのモデルには、ドリフト項と確定的トレンドを加えることもできる。単位根検定に用いたモデルを思い出してほしい。\n",
    "\n",
    "　このモデルをさらに一般化したモデルはARMAモデル(Autoregressive Moving Average Model)と呼ばれ\n",
    "\n",
    "$Y_t=\\sum_{i=1}^p\\beta_i Y_{t-i}+\\varepsilon_t+\\sum_{j=1}^q\\gamma_j \\varepsilon_{t-j}$\n",
    "\n",
    "\n",
    "として定義される。ここで$i$は自己回帰の次数と呼ばれ、 $Y_{t-i}$は$Y_t$ より 単位時間( 時点)前の変数を表し、$j$ は移動平均の次数で、$\\varepsilon_{t-j}$は t時点より $j$単位時間前の変数を表している。 $\\beta_i$、$\\gamma_j$ はそれぞれ自己回帰係数、移動平均係数である。$\\varepsilon_t$ は平均ゼロ、分散 、かつ共分散ゼロ(異なる次数間)のかく乱項・誤差項である。このモデルをARMA($p,q$)といい、$q=0$の時は自己回帰モデルAR($p$)となり、$p=0$では移動平均モデル MA($q$)となる。\n",
    "\n",
    "8.1 ARモデル\n",
    "\n",
    "　$q=0$のとき、ARMA($p,q$)モデルは\n",
    "\n",
    "$Y_t=\\sum_{i=1}^p \\beta_i Y_{t-i}+\\varepsilon_t$\n",
    "\n",
    "となる。\n",
    "\n",
    "　自己相関が生じる原因として慣性や市場の停滞が挙げられる。経済は停滞期を得て徐々に拡張期に移行していくように、ゆっくりとした循環のもとで成り立っている。したがって金融市場の価格であってもこのような経済活動を反映してモメンタムが生じ、何か外生的なショックが起こるまで、その傾向は継続する。金融市場の価格においても正のフィードバック効果が観測されることがある。\n",
    "ではなぜ経済はゆっくりと動きたがるのだろうか？主な理由は3つある。\n",
    "\n",
    "- 技術的理由：新しい技術をすぐに導入できるわけではない。\n",
    "- 組織的理由：すでに導入されているシステム、契約をある一定期間変更するわけにはいかない。\n",
    "- 心理的理由：心理的に新しい概念に人々はすぐに順応できるわけではない。\n",
    "\n",
    " 8.2 自己相関と偏自己相関\n",
    " \n",
    "　AR($p$)モデル、MA($q$)、またはARMA($p,q$)モデルのどのタイプを使ったらよいのだろうか？ また$p,q$といった次数はどのように決めたらよいのだろうか？\n",
    "\n",
    "まず、AR(2)モデルを\n",
    "\n",
    "$Y_t=\\beta_1+\\beta_2 Y_{i-1}+\\beta_3 Y_{i-2}+\\varepsilon_t$\n",
    " \n",
    "と定義する。一般に自己相関関数(acf)は\n",
    "\n",
    "$\\text{acf}=\\frac{\\text{Cov}(Y_t,Y_{t-k})}{\\sqrt{\\text{Var}(Y_t)\\text{Var}(Y_{t-k})}}$\n",
    " \n",
    "で与えられる。この $k=0$の時、共分散(Cov)は分散(Var)になる。$k=1$であれば $Y_t$と $Y_{t-1}$の線形の関係を捉えていてそれを $r_12$としよう。 この場合、本当に線形関係がとらえらえているのだろうか？ $Y_{t-2}$は $Y_t$に影響を与えないだろうか？また、 $Y_{t-1}$に影響を与えないだろうか？ または、この両方に影響を与えているのではないだろうか？したがって、実際にはこれらの関係も明らかにしなければならない。 そこで \n",
    "\n",
    "1. $r_{12,3}$ を $Y_{t-2}$を固定した場合の $Y_{t}$と$Y_{t-1}$ の間の相関;   \n",
    "2. $r_{13,2}$ を $Y_{t-1}$を固定した場合の $Y_{t}$と$Y_{t-2}$ の間の相関;   \n",
    "3. $r_{23,1}$ を $Y_{t}$を固定した場合の $Y_{t-1}$と$Y_{t-2}$ の間の相関;  \n",
    "\n",
    "と定義しそれを偏自己相関と呼ぶ。自己相関(acf)と偏自己相関(pacf)は、ARMAモデルの次数の決定をグラフを用いて判断する方法を与えてくれる。次の表がその目安である。\n",
    "\n",
    "|モデル|\t自己相関|\t偏自己相関|\n",
    "|:-:|:-:|:-:|\n",
    "|AR($p$)|\t指数関数的な減衰,または上下動の動き|\t大きな突出的な動きが$p$次まで続く|\n",
    "|MA($q$)|大きな突出的な動きが$q$次まで続く|指数関数的な減衰|\n",
    "|ARMA($p,q$)|指数関数的な減衰|指数関数的な減衰|\n",
    "\n",
    "8.2.1 statsmodels のplot_acfとplot_pacfの利用\n",
    "\n",
    "　statsmodelsのplot_acfとplot_pacfは標本自己相関と標本偏自己相関をプロットしてくれるだけではなく、その信頼区間を与えてくれる。x軸に次数、y軸に自己相関、偏自己相関として描いたグラフをコレログラムという。 影が掛かった部分が95%の信頼区間である。標本自己相関と標本偏自己相関の棒グラフの外側に信頼区間(陰の部分)がプロットされると帰無仮説を棄却するのは難しい。したがって、回帰係数がゼロである可能性が高い。信頼区間の影の部分から標本自己相関と標本偏自己相関の棒グラフが大きくはみ出していれば、標本自己相関と標本偏自己相関はゼロではない可能性が高いと判断される。\n",
    "\n",
    "\n",
    " 8.2.2 日経平均株価の例\n",
    "\n",
    "　1949年以降から直近までの日経平均株価(対数)の日次のデータをすべて用いて、ADFテストを行うと単位根であるという帰無仮説を棄却できない。月次のデータを用いるとドラフト付ランダムウォークで帰無仮説が規約されるので、ここでは月次のデータを用いて次数500までの標本自己相関と次数20までの標本偏自己相関をプロットしてみた。標本自己相関は指数関数的に非常になだらかな減衰を示している。薄い陰のついた部分が信頼区間を示していて、上を向いた棒グラフの先がこの範囲の中になければ、正の自己相関が有意である可能性が高い。次数100程度までは、上向きの棒グラフは信頼区間の外側の棄却域にある。従って有意な正の自己相関が存在する可能性が高い。また、標本偏自己相関ではなだらかな指数関数的な減衰は見られずに、2つの大きな突起を見ることができる。最初の0次は自分自身なので、2本目の大きな突起は1次の偏自己相関である。従って、日経平均株価の対数の時系列はAR(1)である可能性が高い。\n"
   ]
  },
  {
   "cell_type": "code",
   "execution_count": 1,
   "metadata": {},
   "outputs": [],
   "source": [
    "import pandas as pd\n",
    "import pandas_datareader.data as web\n",
    "import numpy as np\n",
    "import matplotlib.pyplot as plt\n",
    "import statsmodels.api as sm\n",
    "from statsmodels.tsa.arima.model import ARIMA"
   ]
  },
  {
   "cell_type": "code",
   "execution_count": 2,
   "metadata": {},
   "outputs": [],
   "source": [
    " # フォントを全て読み込み\n",
    "import matplotlib.pyplot as plt\n",
    "import matplotlib\n",
    "fonts = set([f.name for f in \n",
    "             matplotlib.font_manager.fontManager.ttflist])\n",
    "plt.rcParams['font.family'] = \"MS Gothic\""
   ]
  },
  {
   "cell_type": "code",
   "execution_count": 16,
   "metadata": {},
   "outputs": [
    {
     "data": {
      "image/png": "[encoded data removed]",
      "text/plain": [
       "<Figure size 800x200 with 2 Axes>"
      ]
     },
     "metadata": {},
     "output_type": "display_data"
    }
   ],
   "source": [
    "n225 = web.DataReader(\"NIKKEI225\", 'fred',\"1949/5/16\").dropna()\n",
    "lnn225=np.log(n225)\n",
    "lnn225M=lnn225.resample('M').last()\n",
    "fig = plt.figure(figsize=(8,2))\n",
    "ax1 = fig.add_subplot(1,2,1)\n",
    "fig = sm.graphics.tsa.plot_acf(lnn225M.squeeze(), lags=500, \n",
    "                               color='lightgray',ax=ax1)\n",
    "plt.title('図8.1')\n",
    "#plt.savefig('0801.jpeg',dpi=1200)\n",
    "ax2 = fig.add_subplot(1,2,2)\n",
    "fig = sm.graphics.tsa.plot_pacf(lnn225M.squeeze(),method='ywm',\n",
    "                                lags=20,color='lightgray', ax=ax2)\n",
    "plt.title('図8.2')\n",
    "#plt.savefig('0802.jpeg',dpi=1200)\n",
    "plt.show()"
   ]
  },
  {
   "cell_type": "markdown",
   "metadata": {},
   "source": [
    "\n",
    "プログラムコードの解説\n",
    "\n",
    "k次の自己相関関数を計算し、グラフに表示する機能がstatsmodelsから得られる。 lagは次数に相当する。 \n",
    "```\n",
    "import statsmodels.api as sm    #接頭語をsmとしてstatsmodels.apiをインポート \n",
    "fig = plt.figure(figsize=(8,2)) #新しいウインドウを描画 \n",
    "ax1 = fig.add_subplot(1,2,1)    #figureで指定された場所の中にサブプロットを追加\n",
    "#描画 \n",
    "#plot_acfは自己相関をプロットする。 \n",
    "fig = sm.graphics.tsa.plot_acf(lnn225.squeeze(), lags=500, ax=ax1) \n",
    "#lagsで次数を指定、axでサブプロットを指定 \n",
    "ax2 = fig.add_subplot(1,2,2)    #plot_pacfは偏自己相関をプロットする。 \n",
    "fig = sm.graphics.tsa.plot_pacf(lnn225.squeeze(), lags=20, ax=ax2)\n",
    "```\n",
    "\n",
    "8.2.3 日経平均株価のAR(1)モデル\n",
    "\n",
    "　1949年以降2016年4月末までの月次の日経平均株価を用いたADF検定では、日経平均株価はドリフト付ランダムウォークで帰無仮説が棄却された。また、標本自己相関、標本偏自己相関の分析でAR(1)であると判定された。そこでドリフト付きAR(1)として回帰分析を行ってみよう。\n",
    "\n",
    "$y_t=\\hat{\\alpha}+\\hat{\\beta} y_{t-1}+ \\epsilon_t$\n",
    "\n",
    "ここで$\\epsilon$は残差項である。"
   ]
  },
  {
   "cell_type": "code",
   "execution_count": 4,
   "metadata": {},
   "outputs": [
    {
     "name": "stdout",
     "output_type": "stream",
     "text": [
      "const    0.032025\n",
      "x1       0.996925\n",
      "dtype: float64 const    0.004842\n",
      "x1       0.000000\n",
      "dtype: float64\n"
     ]
    }
   ],
   "source": [
    "y=lnn225M.iloc[1:].copy()\n",
    "x=lnn225M.iloc[:-1].copy()\n",
    "x=sm.add_constant(x.values)\n",
    "arma_res=sm.OLS(y,x).fit() \n",
    "print(arma_res.params, arma_res.pvalues)"
   ]
  },
  {
   "cell_type": "markdown",
   "metadata": {},
   "source": [
    "　対数価格を用いた線形回帰の結果では切片が0.0321、回帰係数が0.9969であり、そのp値は切片が0.005,回帰係数がゼロであるので、ドリフト付きモデルAR(1)である可能性が高い。しかし、回帰係数が0.9969ではほぼ１に近く、対数価格の動きはランダムウォークに近いものになる。そこで、最小二乗法を用いて統計量が母数を正しく推定し、また、被説明変数の正しい期待値を得るためには\n",
    "\n",
    "1. 回帰関数は線形でなければならない。 \n",
    "2. $Y_{t-1}$は確率変数であってはならない。 \n",
    "3. $\\varepsilon_i$の平均はゼロである。 \n",
    "4. $\\varepsilon_i$の分散は一定である。 \n",
    "5. $\\varepsilon_i$と$\\varepsilon_j,i \\ne j$の相関はゼロである。  \n",
    "6. $\\varepsilon_t$と$Y_t$ の共分散はゼロである。 \n",
    "7. $\\varepsilon_i$は平均ゼロの正規分布にしたがう。\n",
    "\n",
    "という条件がある。1.の”回帰関数は線形である”は、ドリフト付きAR(1)は線形モデルであるので問題ない。2.の”説明変数は確率変数であってはならない”は、 $\\varepsilon$が正規分布にしたがえば、説明変数が確率変数であっても問題ない。その後の3.から7.までの条件はすべて$\\varepsilon_i$に関するものである。それを1つ1つ見ていこう。\n",
    "\n",
    "8.2.3.1 残差の分析\n",
    "\n",
    "　$\\varepsilon$は手に入らないので、残差$\\epsilon$を用いて分析する。まず、残差をプロットしてみよう。直感的にはバブル崩壊以降残差は大きくなっていて、分散が一定という仮定に反しているように思える。"
   ]
  },
  {
   "cell_type": "code",
   "execution_count": 5,
   "metadata": {
    "scrolled": true
   },
   "outputs": [
    {
     "data": {
      "image/png": "[encoded data removed]",
      "text/plain": [
       "<Figure size 500x300 with 1 Axes>"
      ]
     },
     "metadata": {},
     "output_type": "display_data"
    }
   ],
   "source": [
    "resid=pd.DataFrame(arma_res.resid[1:],index=lnn225M.index[1:])\n",
    "resid.plot(figsize=(5,3),color='seagreen')\n",
    "plt.ylabel('$\\hat{z_t}$')\n",
    "plt.show()"
   ]
  },
  {
   "cell_type": "markdown",
   "metadata": {},
   "source": [
    "自己相関と偏自己相関\n",
    "\n",
    "　次に標本自己相関、標本偏自己相関を用いて残差の分析を行ってみよう。acfはp値を返してくれるので、標本自己相関係数がゼロであるとする帰無仮説の検定ができる。また、標本偏自己相関では95%の信頼区間を返してくれるので、こちらも同じように帰無仮説の検定ができる。"
   ]
  },
  {
   "cell_type": "code",
   "execution_count": 6,
   "metadata": {},
   "outputs": [
    {
     "name": "stdout",
     "output_type": "stream",
     "text": [
      "自己相関係数： [ 1.          0.04992521 -0.00324743]\n",
      "p値: [0.13704051 0.3295187 ]\n",
      "偏自己相関: [ 1.          0.04998175 -0.00576737]\n",
      "95%信頼区間: [[ 1.          1.        ]\n",
      " [-0.01593897  0.11590247]\n",
      " [-0.0716881   0.06015335]]\n"
     ]
    }
   ],
   "source": [
    "from statsmodels.tsa import stattools\n",
    "acf,q,pvalue = stattools.acf(arma_res.resid,nlags=2,qstat=True)\n",
    "pacf,confint = stattools.pacf(arma_res.resid,nlags=2,alpha=0.05)\n",
    "print(\"自己相関係数：\",acf)\n",
    "print(\"p値:\",pvalue)\n",
    "print(\"偏自己相関:\",pacf)\n",
    "print(\"95%信頼区間:\",confint)"
   ]
  },
  {
   "cell_type": "markdown",
   "metadata": {},
   "source": [
    "　標本自己相関はすべての次数に対して10％より大きいので帰無仮説を棄却することは難しい。従って、標本自己相関はゼロである可能性が高い。 また偏自己相関に関してもすべての次数で信頼区間の中にあるので、帰無仮説を棄却するのは難しく、標本偏自己相関もゼロである可能性が高い。\n",
    "\n",
    "残差項の自己相関＝ゼロ\n",
    "\n",
    "プログラムコードの解説\n",
    "\n",
    "acf,q,pvalue = stattools.acf(arma_res.resid,nlags=5,qstat=True)  #p値を取得\n",
    "pacf,confint = stattools.pacf(arma_res.resid,nlags=5,alpha=0.05)  #信頼区間を取得\n",
    "\n",
    "\n",
    "ADF 検定\n",
    "\n",
    "残差項が定常過程かどうかを調べてみよう。"
   ]
  },
  {
   "cell_type": "code",
   "execution_count": 7,
   "metadata": {},
   "outputs": [
    {
     "name": "stdout",
     "output_type": "stream",
     "text": [
      "ドリフト無しランダムウォーク p値: 2.0589168644920363e-19\n",
      "ドリフト付きランダムウォーク p値: 2.272630276017862e-19\n"
     ]
    }
   ],
   "source": [
    "p=sm.tsa.adfuller(arma_res.resid,regression='n')[1] #[1]はp値の検定結果\n",
    "p1=sm.tsa.adfuller(arma_res.resid,regression='c')[1] #[1]はp値の検定結果\n",
    "print(\"ドリフト無しランダムウォーク p値:\",p)\n",
    "print(\"ドリフト付きランダムウォーク p値:\",p1)\n"
   ]
  },
  {
   "cell_type": "markdown",
   "metadata": {},
   "source": [
    "　結果はp値がドリフト付き、ドリフト無しモデルに対してゼロであるので、帰無仮説を棄却するに足る。\n",
    "\n",
    "残差項は定常過程\n",
    "\n",
    "平均\n",
    "\n",
    "　残差の平均が一定であるかどうかをグラフを用いて判断してみよう。その判断基準として信頼区間があると便利である。 母分散が明確でなく、標本数も十分でない場合の信頼区間はステューデントのt分布から求めることができる。信頼区間を\n",
    " \n",
    " $P(\\bar{X}-1.96\\sqrt{\\sigma^2/n}<\\mu<\\bar{X}+1.96\\sqrt{\\sigma^2/n})=0.95$ \n",
    "\n",
    "と書くことができる。$\\mu$ は帰無仮説の母平均で、この場合はゼロである。 $\\sigma^2$は$\\varepsilon$の分散である。250日移動平均の最大値と最小値がこの信頼区間に入っているかを判断してみよう。\n"
   ]
  },
  {
   "cell_type": "code",
   "execution_count": 8,
   "metadata": {},
   "outputs": [
    {
     "name": "stdout",
     "output_type": "stream",
     "text": [
      "平均:              0.00023 標準偏差：          0.0573\n",
      "250日平均の最大値: 0.00756 250日平均の最小値: -0.00817\n",
      "250日平均の95%の信頼区間:  (array([-0.11283402]), array([0.11283402]))\n"
     ]
    }
   ],
   "source": [
    "from scipy.stats import t\n",
    "m=resid.mean()\n",
    "v=resid.std()\n",
    "resid_max=(resid.rolling(250).mean()).max()\n",
    "resid_min=(resid.rolling(250).mean()).min()\n",
    "print(\"平均:              %2.5f\"%m,\"標準偏差：          %2.4f\"%v)\n",
    "print(\"250日平均の最大値: %2.5f\"%resid_max,\"250日平均の最小値: %2.5f\"%resid_min)\n",
    "print(\"250日平均の95%の信頼区間: \",(t.interval(confidence=0.95, df=250, loc=0, scale=v)))\n"
   ]
  },
  {
   "cell_type": "markdown",
   "metadata": {},
   "source": [
    "　250日平均の95%信頼区間は、-0.02434から0.02434である。\n",
    "250日間の平均値の最大値は0.0036であり、最小値は‐0.0012である。従って、どの期間においても250日間の平均値は95%の信頼区間の中にある。グラフで確かめてみよう。"
   ]
  },
  {
   "cell_type": "code",
   "execution_count": 9,
   "metadata": {},
   "outputs": [
    {
     "data": {
      "text/plain": [
       "Text(0, 0.5, '$\\\\hat{z_t}$')"
      ]
     },
     "execution_count": 9,
     "metadata": {},
     "output_type": "execute_result"
    },
    {
     "data": {
      "image/png": "[encoded data removed]",
      "text/plain": [
       "<Figure size 500x300 with 1 Axes>"
      ]
     },
     "metadata": {},
     "output_type": "display_data"
    }
   ],
   "source": [
    "resid.rolling(250).mean().plot(figsize=(5,3),color='hotpink')\n",
    "plt.ylabel('$\\hat{z_t}$')"
   ]
  },
  {
   "cell_type": "markdown",
   "metadata": {},
   "source": [
    "　グラフから全期間において250日移動平均は、95%信頼区間の範囲内にある。従って、残差の250日の平均が全区間でゼロである可能性が高い。\n",
    "\n",
    "残差の平均はゼロ\n",
    "\n",
    "プログラムコードの解説\n",
    "```\n",
    "from scipy.stats import t 　　　　 #ステューデントのt分布のインポート \n",
    "t.interval(alpha=0.05, df=250, loc=0, scale=v) #alpha=信頼係数\n",
    "#df=標本数、\n",
    "#loc=平均、\n",
    "#scale=標準偏差 \n",
    "                                   #結果はタプルで返される。\n",
    "#scale=1がディフォルトである点に注意。\n",
    "```\n",
    "\n",
    "Scipy統計関数のリファレンス： http://docs.scipy.org/doc/scipy-0.17.0/reference/stats.html\n",
    "\n",
    "標準偏差\n",
    "\n",
    "　標準偏差に関してもグラフを用いて、それが一定であるかどうかの判断をしてみよう。平均の時と同様に信頼区間を用いる。分散の区間推定は\n",
    "\n",
    "$P\\left(\\frac{\\sum_{i=1}^n(\\epsilon_i-\\bar{\\epsilon})^2}{\\chi_{0.025,n-1}^2}\\le\\sigma^2 \\le \\frac{\\sum_{i=1}^n(\\epsilon_i-\\bar{\\epsilon})^2}{\\chi_{0.975,n-1}^2}\\right)=0.95$\n",
    "\n",
    "が成り立つことが知られている。"
   ]
  },
  {
   "cell_type": "code",
   "execution_count": 10,
   "metadata": {},
   "outputs": [
    {
     "name": "stdout",
     "output_type": "stream",
     "text": [
      "平均:                 0.00023         標準偏差：    0.05729\n",
      "250日標準偏差の最大値:0.06567 250日標準偏差の最小値:0.04277\n",
      "250日標準偏差の95pctの信頼区間:0.0527 <= \\sigma <=0.0628\n"
     ]
    }
   ],
   "source": [
    "from scipy.stats import chi2\n",
    "m=resid.mean()\n",
    "v=resid.std()\n",
    "resid_max=(resid.rolling(250).std()).max()\n",
    "resid_min=(resid.rolling(250).std()).min()\n",
    "print(\"平均:                 %2.5f\"%m,\"        標準偏差：    %2.5f\"%v)\n",
    "print(\"250日標準偏差の最大値:%2.5f\"%resid_max,\"250日標準偏差の最小値:%2.5f\"%resid_min)\n",
    "\n",
    "c975,c025=chi2.interval(confidence=(0.95), df=249)\n",
    "\n",
    "print(\"250日標準偏差の95pctの信頼区間:%2.4f\"%(v/np.sqrt(c025/249)),end=\" \")\n",
    "print(\"<= \\sigma <=%2.4f\"%(v/np.sqrt(c975/249)))\n"
   ]
  },
  {
   "cell_type": "markdown",
   "metadata": {},
   "source": [
    "　残差の標本標準偏差は0.01234であり、その95%信頼区間は0.0113から0.0135である。250日移動標本標準偏差の最大値は0.02964であり、最小値は0.00417である。信頼区間から大きく外れている期間が多い。グラフで確認してみよう。"
   ]
  },
  {
   "cell_type": "code",
   "execution_count": 11,
   "metadata": {},
   "outputs": [
    {
     "data": {
      "text/plain": [
       "Text(0, 0.5, '$std$')"
      ]
     },
     "execution_count": 11,
     "metadata": {},
     "output_type": "execute_result"
    },
    {
     "data": {
      "image/png": "[encoded data removed]",
      "text/plain": [
       "<Figure size 600x400 with 1 Axes>"
      ]
     },
     "metadata": {},
     "output_type": "display_data"
    }
   ],
   "source": [
    "resid.rolling(250).std().plot(figsize=(6,4),color='darkgray')\n",
    "plt.ylabel('$std$')"
   ]
  },
  {
   "cell_type": "markdown",
   "metadata": {},
   "source": [
    "　標本標準偏差に関してはグラフから信頼区間から大きく外れている期間が多いことが見て取れる。一般に回帰分析において分散が一定でない状態を分散不均一性といい、回帰係数の推定に問題を生じさせることで知られている。しかし、金融市場における分散の変動は分散不均一性以上の意味を持つ。金融市場では価格の変動性が大きくジャンプしてその状態が一定期間継続することが知られている。この問題をボラティリティーのクラスタリングと呼ぶ。金融市場の背後にある経済の状態そのものが変化した結果として、そのような分散の大きな変動が生じている可能性があるのである。このような時には分散不均一性というよりは、構造変化(structural break)として認識される。\n",
    "\n",
    "250日間標準偏差：分散不均一性、構造変化の可能性\n",
    "\n",
    "　ではなぜ分散不均一性、構造変化が注目に値するのだろうか？その理由は簡単だ！自己相関、偏自己相関、定常過程、平均ゼロとチェックしてきたが、どの判定も分散が一定であることが前提となっているからだ！ではなぜ最初に分散のチェックをしなかったかって！確かにそうだ！順番は分散不均一性のテストが実は最優先だ。どのような統計の教科書でもこの分散不均一性だけで１章を費やしている。有名な検定方法としてPark、Breush-Pagan、White、goldfeld-quandtテストがある。Parkを除くとStatsmodelで提供されている。しかし、最も頻繁に用いられるのはインフォーマルな目視のテストである。その意味では残差の分析の最初に分散不均一性の目視のテストを行っている。\n",
    "\n",
    "長期の回帰分析には要注意！！\n",
    "\n",
    "プログラムコードの解説\n",
    "```\n",
    "from scipy.stats import chi2　#χ2乗分布 \n",
    "cint1,cint2=chi2.interval(alpha=(0.95), df=249)\n",
    "#c975=信頼区間の上限\n",
    "#c025=信頼区間の下限 \n",
    "#alpha=信頼区間 \n",
    "```\n",
    "\n",
    "8.3 最適な分析期間とデータの切り捨て\n",
    "\n",
    "　ここでは、分析期間とデータの切り捨てについては6章と7章ですでに見てきた。日次のデータを使うと大体20日から100日間ぐらいまで、月次では2年以上の期間で有効である可能性がある。月次のデータを使うということは一カ月で1つのデータしか使わないのであるから、その他のデータは捨てることになる。そうした方が長期の分析には都合がよい。7章のADF検定では、日次で20日間のデータを用いると75％程度で単位根が棄却できない。そこで残りの25%について、AR(1)でその残差について分析してみる。\n"
   ]
  },
  {
   "cell_type": "code",
   "execution_count": 12,
   "metadata": {},
   "outputs": [
    {
     "name": "stdout",
     "output_type": "stream",
     "text": [
      " 20   914   0.5945 272\n",
      " 40   457   0.4522 59\n",
      " 60   304   0.3811 44\n",
      " 80   228   0.2508 20\n",
      "100   182   0.2182 23\n",
      "120   152   0.0878 10\n",
      "140   130   0.1736 14\n",
      "160   114   0.2535 9\n",
      "180   101   0.2370 9\n",
      "200    91   0.1179 10\n",
      "220    83   0.2181 8\n",
      "240    76   0.1590 6\n"
     ]
    }
   ],
   "source": [
    "from statsmodels.stats.stattools import jarque_bera\n",
    "import numpy as np\n",
    "interval=np.arange(20,250,20)\n",
    "tsd=lnn225.copy()\n",
    "adf='c'\n",
    "for nnn in interval:\n",
    "    no=int(len(tsd)/nnn)\n",
    "    print('{0:3}  {1:4}'.format(nnn,no),end=\" \")\n",
    "    jb=0 \n",
    "    nn=0\n",
    "    for i in range(no):\n",
    "        if i<no-1:\n",
    "            tsd0=tsd.iloc[i*nnn:(1+i)*nnn].copy()\n",
    "        else:\n",
    "            tsd0=tsd.iloc[i*nnn:-1].copy()\n",
    "        y=tsd0#.resample('Q').mean()\n",
    "        if sm.tsa.adfuller(y,regression=adf)[1]<0.1:\n",
    "            yy=y.iloc[1:].copy()\n",
    "            x=y.iloc[:-1].copy()\n",
    "            x[\"t\"]=np.arange(len(x))\n",
    "            x=sm.add_constant(x.values)\n",
    "            res=sm.OLS(yy,x).fit() \n",
    "            jb+=jarque_bera(res.resid.values)[1]\n",
    "            nn+=1\n",
    "    if nn>0:\n",
    "        print('  {:.4f}'.format(jb/nn),nn)"
   ]
  },
  {
   "cell_type": "markdown",
   "metadata": {},
   "source": [
    "　第7章のADF検定では、第2次世界大戦以降のほぼすべての日経平均株価のデータを対象として分析を行った。そして、その結果として、ドリフト付きモデルでランダムウォーク仮説が棄却された。それ故に本章では、戦後から現在までの日経平均株価がAR(1)であるかどうかの分析を行った。しかし、ADF検定の結果との整合性は取れなかった。そこで行った残差項の分析からうまく行かない理由は、分散不均一性と構造変化であった。\n",
    "\n",
    "　そして、第7章のADF検定で、すべての経済循環期でドリフト付きモデルでランダムウォークであるという帰無仮説を否定することが難しいという結果を得た。今のところ、経済循環期に対して分散不均一性も構造変化についても分析していない。もちろん本当はするべきである。(経済循環期には拡張期と後退期があることを決して忘れないでほしい。)そして今、すべての景気循環期に対して、日経平均株価がAR(1)で説明できるのではないかという分析を行っている。このようなくどくどとした分析を何度となく繰り返す理由は何なのだろうか？\n",
    "\n",
    "　ここで第一種過誤、またはタイプIエラーについて説明しよう。第一種過誤とは帰無仮説が正しいのに棄却してしまう過ちのことである。仮説検定は帰無仮説が正しいのに棄却してまうリスクを少なくする方向で行われる。つまり、なるべく帰無仮説が受け入れられやすくしているので、帰無仮説が実は間違っているのに正しいとしてしまうリスク、または対立仮説が正しいのに間違っているとするリスクは高まっているのである。これを第２種の過誤という。ということは第7章の分析ではドリフト付きモデルでランダムウォークであるという可能性が高いだけであって、必ずしもそうであるとは限らないのである。\n",
    "\n",
    "　本章での分析結果ではすべての景気循環期で日経平均株価の確率過程がAR(1)による定常性を持ちうるという可能性がある。つまりこの結論を捨てきるわけにはいかないのである。または、金融市場の時系列分析では幾つものモデルの可能性を視野に入れて分析する必要があるのである。\n",
    "\n",
    "\n",
    "　本章では３種の神器である、時間トレンド、ランダムウォーク、AR(1)を手に入れた。しかし、金融市場の時系列分析ではどれか１つを特定して分析する考え方は得策ではない。\n"
   ]
  },
  {
   "cell_type": "code",
   "execution_count": null,
   "metadata": {},
   "outputs": [],
   "source": []
  }
 ],
 "metadata": {
  "anaconda-cloud": {},
  "kernelspec": {
   "display_name": "Python 3 (ipykernel)",
   "language": "python",
   "name": "python3"
  },
  "language_info": {
   "codemirror_mode": {
    "name": "ipython",
    "version": 3
   },
   "file_extension": ".py",
   "mimetype": "text/x-python",
   "name": "python",
   "nbconvert_exporter": "python",
   "pygments_lexer": "ipython3",
   "version": "3.9.13"
  }
 },
 "nbformat": 4,
 "nbformat_minor": 1
}
